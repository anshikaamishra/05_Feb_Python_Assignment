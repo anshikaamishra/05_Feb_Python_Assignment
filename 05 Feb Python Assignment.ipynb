{
 "cells": [
  {
   "cell_type": "markdown",
   "id": "07d4b7de-256d-43cb-9e92-46c8ac2b0450",
   "metadata": {},
   "source": [
    "## 05 Feb Python Assignment"
   ]
  },
  {
   "cell_type": "markdown",
   "id": "019cc725-e965-496b-95fd-8e6a1aaaccf8",
   "metadata": {},
   "source": [
    "**Q1. Explain Class and Object with respect to Object-Oriented Programming. Give a suitable example.**"
   ]
  },
  {
   "cell_type": "markdown",
   "id": "0717e118-cf17-463c-9912-4b3c71bbb0f8",
   "metadata": {},
   "source": [
    "In object-oriented programming (OOP), a class and an object are two fundamental concepts that allow us to model and represent real-world entities in code.\n",
    "\n",
    "Class:\n",
    "\n",
    "- A class is a blueprint or template for creating objects. It defines the structure and behavior of objects of a specific type.\n",
    "- It acts as a user-defined data type, encapsulating data (attributes) and methods (functions) that operate on that data.\n",
    "- A class serves as a blueprint for creating multiple instances of objects with similar attributes and behaviors.\n",
    "\n",
    "\n",
    "Object:\n",
    "\n",
    "- An object is an instance of a class. It is a tangible entity created based on the class blueprint.\n",
    "- Each object has its own unique set of attributes and can execute the methods defined in its class.\n",
    "- Objects are self-contained, meaning the state (data) and behavior (methods) are tied together and interact only with the methods they possess.\n",
    "\n",
    "Example:\n",
    "\n",
    "\n",
    "Let's create a simple Person class with attributes like name, age, and a method to introduce the person."
   ]
  },
  {
   "cell_type": "code",
   "execution_count": 1,
   "id": "d0ea23eb-8597-4324-93c1-c42086e2854b",
   "metadata": {},
   "outputs": [
    {
     "name": "stdout",
     "output_type": "stream",
     "text": [
      "Hi, I'm Alice, and I'm 30 years old.\n",
      "Hi, I'm Bob, and I'm 25 years old.\n"
     ]
    }
   ],
   "source": [
    "class Person:\n",
    "    def __init__(self, name, age):\n",
    "        self.name = name\n",
    "        self.age = age\n",
    "\n",
    "    def introduce(self):\n",
    "        print(f\"Hi, I'm {self.name}, and I'm {self.age} years old.\")\n",
    "\n",
    "# Creating objects of the Person class\n",
    "person1 = Person(\"Alice\", 30)\n",
    "person2 = Person(\"Bob\", 25)\n",
    "\n",
    "# Calling the method on each object\n",
    "person1.introduce()  \n",
    "person2.introduce()  \n"
   ]
  },
  {
   "cell_type": "markdown",
   "id": "37ccce3e-f6ae-4f0d-8ffa-004dd36af8d4",
   "metadata": {},
   "source": [
    "- In this example, we have defined a Person class with a constructor __init__() to initialize the name and age attributes of each person object. The introduce() method prints a simple introduction for each person.\n",
    "\n",
    "- We then create two objects person1 and person2 of the Person class. Each object has its own unique name and age attributes, and they can both execute the introduce() method to introduce themselves.\n",
    "\n",
    "- The class Person acts as a blueprint for creating any number of person objects, each with its own distinct attributes and behavior."
   ]
  },
  {
   "cell_type": "markdown",
   "id": "8e03b7f1-43d5-4526-888c-1b18426d8e10",
   "metadata": {},
   "source": [
    "**Q2. Name the four pillars of OOPs.**"
   ]
  },
  {
   "cell_type": "markdown",
   "id": "d462c176-faa1-4b0d-932e-2c910b02eae3",
   "metadata": {},
   "source": [
    "The four pillars of Object-Oriented Programming (OOP) are:\n",
    "\n",
    "1. Encapsulation: Encapsulation is the concept of bundling data (attributes) and the methods (functions) that operate on that data within a single unit called a class. It allows the class to control access to its internal state and provides data hiding, protecting the attributes from direct external manipulation. Encapsulation helps maintain data integrity and promotes secure and organized code.\n",
    "\n",
    "2. Abstraction: Abstraction focuses on hiding unnecessary implementation details of a class and exposing only the essential features and behavior to the outside world. It allows us to create simplified and manageable representations of real-world objects or concepts. Abstraction is achieved through abstract classes and interfaces, which provide a blueprint for derived classes and ensure adherence to a certain interface or structure.\n",
    "\n",
    "3. Inheritance: Inheritance is a mechanism where a class (subclass or derived class) can inherit attributes and methods from another class (superclass or base class). It allows the reuse of code and enables the creation of a hierarchy of classes, where derived classes inherit properties and behaviors from their parent classes. Inheritance promotes code reusability and supports the concept of \"is-a\" relationships.\n",
    "\n",
    "4. Polymorphism: Polymorphism means the ability of a method to take on multiple forms. It allows a class to provide a single interface for different data types or objects. In Python, polymorphism is typically achieved through method overriding, where a subclass provides a specific implementation for a method that is already defined in its superclass. Polymorphism enables code flexibility and dynamic behavior, making it easier to work with different objects using a common interface.\n",
    "\n",
    "These four pillars form the foundation of object-oriented programming paradigms and provide a powerful way to design and implement software systems with modularity, reusability, and maintainability in mind."
   ]
  },
  {
   "cell_type": "markdown",
   "id": "81797cb2-29e9-4c86-bbf4-2e81a01ab34f",
   "metadata": {},
   "source": [
    "**Q3. Explain why the __init__() function is used. Give a suitable example.**"
   ]
  },
  {
   "cell_type": "markdown",
   "id": "3d602f45-34d2-4401-ac28-2369bc767883",
   "metadata": {},
   "source": [
    "- The `__init__()` function in Python is a special method that serves as the constructor for a class. It is automatically called when an object of the class is created. The primary purpose of the `__init__()` method is to initialize the attributes (data) of the object with values provided during object creation. It allows you to set up the initial state of the object when it is instantiated.\n",
    "\n",
    "- The `__init__()` method is optional, but it is commonly used to ensure that all necessary attributes are properly initialized at the time of object creation. Without the `__init__()` method, you would have to manually set each attribute after creating the object, which could lead to errors if some attributes are missed or incorrectly initialized.\n",
    "\n",
    "Example:\n",
    "\n",
    "- Let's create a simple `Car` class with attributes like `make`, `model`, and `year`, and use the `__init__()` method to initialize these attributes when creating a `Car` object.\n",
    "\n",
    "- In this example, the `Car` class has an `__init__()` method that takes `make`, `model`, and `year` as arguments and initializes the corresponding attributes of the `Car` object using these values.\n",
    "\n",
    "- When we create `car1` and `car2` objects, we pass the specific make, model, and year values to the constructor (`__init__()`), and these values are used to initialize the attributes of each object. The `display_info()` method then prints the car information, including the make, model, and year.\n",
    "\n",
    "- By using the `__init__()` method, we ensure that every `Car` object is created with its attributes properly initialized, making it easier to work with and maintain the state of each object."
   ]
  },
  {
   "cell_type": "code",
   "execution_count": 2,
   "id": "2ffd8f62-430f-496d-98d5-f0c4572fd4b4",
   "metadata": {},
   "outputs": [
    {
     "name": "stdout",
     "output_type": "stream",
     "text": [
      "Car: Toyota Camry, Year: 2022\n",
      "Car: Honda Civic, Year: 2023\n"
     ]
    }
   ],
   "source": [
    "class Car:\n",
    "    def __init__(self, make, model, year):\n",
    "        self.make = make\n",
    "        self.model = model\n",
    "        self.year = year\n",
    "\n",
    "    def display_info(self):\n",
    "        print(f\"Car: {self.make} {self.model}, Year: {self.year}\")\n",
    "\n",
    "# Creating objects of the Car class\n",
    "car1 = Car(\"Toyota\", \"Camry\", 2022)\n",
    "car2 = Car(\"Honda\", \"Civic\", 2023)\n",
    "\n",
    "# Calling the method on each object\n",
    "car1.display_info()  \n",
    "car2.display_info()\n"
   ]
  },
  {
   "cell_type": "markdown",
   "id": "99230a11-86c8-4808-894a-a68bbe053cfa",
   "metadata": {},
   "source": [
    "**Q4. Why self is used in OOPs?**"
   ]
  },
  {
   "cell_type": "markdown",
   "id": "1793d32a-e1db-4e0a-91bf-75afe4f9e548",
   "metadata": {},
   "source": [
    "In object-oriented programming (OOP), `self` is a convention used as the first parameter in instance methods of a class. It represents the instance of the class itself and allows instance methods to access and operate on the attributes and methods of that particular instance.\n",
    "\n",
    "The use of `self` in OOP is essential for the following reasons:\n",
    "\n",
    "1. Instance Scope: When a method is called on an object, `self` refers to that specific instance of the class. It allows methods to access and manipulate the instance's attributes (data) and call other instance methods within the class.\n",
    "\n",
    "2. Attribute Access: Using `self` as a reference, methods can access and modify the object's attributes. Without `self`, Python would consider the variable as a local variable within the method, and it wouldn't have any connection to the object's attributes.\n",
    "\n",
    "3. Method Invocation: When calling an instance method, Python automatically passes the object on which the method is called as the first argument (`self`). This is why we only provide the arguments after `self` in the method definition, and Python handles the rest.\n",
    "\n",
    "Example:\n",
    "\n",
    "\n",
    "- In this example, the `MyClass` has an `__init__()` constructor method that takes a value and initializes the `value` attribute of the object using the `self` reference. The `show_value()` method accesses and prints the `value` attribute using `self`.\n",
    "\n",
    "- By using `self` as the first parameter in instance methods, we establish a clear relationship between the method and the instance of the class, enabling proper attribute access and method invocation for each object."
   ]
  },
  {
   "cell_type": "code",
   "execution_count": 3,
   "id": "d020d83f-bec1-4b1f-8791-fd0b63822456",
   "metadata": {},
   "outputs": [
    {
     "name": "stdout",
     "output_type": "stream",
     "text": [
      "The value is: 42\n"
     ]
    }
   ],
   "source": [
    "\n",
    "class MyClass:\n",
    "    def __init__(self, value):\n",
    "        self.value = value\n",
    "\n",
    "    def show_value(self):\n",
    "        print(f\"The value is: {self.value}\")\n",
    "\n",
    "# Creating an object of MyClass\n",
    "obj = MyClass(42)\n",
    "\n",
    "# Calling the show_value method on the object\n",
    "obj.show_value() \n"
   ]
  },
  {
   "cell_type": "markdown",
   "id": "10839034-bb80-43cd-8838-3bca19b0c02e",
   "metadata": {},
   "source": [
    "**Q5. What is inheritance? Give an example for each type of inheritance.**"
   ]
  },
  {
   "cell_type": "markdown",
   "id": "f91c4773-fe18-4861-a06c-545ab1dc78f7",
   "metadata": {},
   "source": [
    "Inheritance is a fundamental concept in object-oriented programming (OOP) where a class (subclass or derived class) inherits attributes and methods from another class (superclass or base class). It allows a subclass to reuse and extend the functionality of a superclass, promoting code reusability and the creation of a class hierarchy.\n",
    "\n",
    "There are different types of inheritance in OOP:\n",
    "\n",
    "1. Single Inheritance:\n",
    "   Single inheritance involves a subclass inheriting from a single superclass. This is the most common type of inheritance.\n",
    "\n",
    "Example of Single Inheritance:\n",
    "\n",
    "In this example, we have a base class `Animal` with a method `make_sound()`, and a derived class `Dog`, which inherits from `Animal`. The `Dog` class overrides the `make_sound()` method to produce a specific sound.\n",
    "\n"
   ]
  },
  {
   "cell_type": "code",
   "execution_count": 4,
   "id": "e8636e29-b82d-4580-a190-c5201fc41448",
   "metadata": {},
   "outputs": [
    {
     "name": "stdout",
     "output_type": "stream",
     "text": [
      "Woof! Woof!\n"
     ]
    }
   ],
   "source": [
    "\n",
    "class Animal:\n",
    "    def make_sound(self):\n",
    "        print(\"Generic animal sound\")\n",
    "\n",
    "class Dog(Animal):\n",
    "    def make_sound(self):\n",
    "        print(\"Woof! Woof!\")\n",
    "\n",
    "# Creating an object of the Dog class\n",
    "dog_obj = Dog()\n",
    "\n",
    "# Calling the method on the Dog object\n",
    "dog_obj.make_sound()  \n"
   ]
  },
  {
   "cell_type": "markdown",
   "id": "91da27c6-6898-40f3-8adb-f8a01a6ed526",
   "metadata": {},
   "source": [
    "\n",
    "2. Multiple Inheritance:\n",
    "   Multiple inheritance involves a subclass inheriting from more than one superclass. It allows a class to inherit attributes and methods from multiple parent classes.\n",
    "\n",
    "Example of Multiple Inheritance:\n",
    "\n",
    "\n",
    "In this example, we have three classes: `A`, `B`, and `C`. The `C` class inherits from both `A` and `B` using multiple inheritance. As a result, objects of the `C` class can access and use methods from both `A` and `B` classes.\n"
   ]
  },
  {
   "cell_type": "code",
   "execution_count": 5,
   "id": "d92e8f88-f864-47f9-85db-e6533aadb256",
   "metadata": {},
   "outputs": [
    {
     "name": "stdout",
     "output_type": "stream",
     "text": [
      "Method A from class A\n",
      "Method B from class B\n"
     ]
    }
   ],
   "source": [
    "\n",
    "class A:\n",
    "    def method_a(self):\n",
    "        print(\"Method A from class A\")\n",
    "\n",
    "class B:\n",
    "    def method_b(self):\n",
    "        print(\"Method B from class B\")\n",
    "\n",
    "class C(A, B):\n",
    "    def method_c(self):\n",
    "        print(\"Method C from class C\")\n",
    "\n",
    "# Creating an object of the C class\n",
    "obj = C()\n",
    "\n",
    "# Calling methods from both A and B classes\n",
    "obj.method_a()  # Output: Method A from class A\n",
    "obj.method_b()  # Output: Method B from class B\n"
   ]
  },
  {
   "cell_type": "markdown",
   "id": "ceeb24db-2f08-476f-a26a-dcd8aefadfd5",
   "metadata": {},
   "source": [
    "\n",
    "3. Multilevel Inheritance:\n",
    "   Multilevel inheritance involves a subclass inheriting from another class, which, in turn, inherits from a superclass. It creates a chain of inheritance.\n",
    "\n",
    "Example of Multilevel Inheritance:\n",
    "\n",
    "\n",
    "In this example, we have three classes: `Vehicle`, `Car`, and `SportsCar`. The `SportsCar` class inherits from `Car`, which, in turn, inherits from `Vehicle`. This creates a multilevel inheritance chain, and objects of the `SportsCar` class can access and use methods from all three classes.\n",
    "\n",
    "Each type of inheritance allows for different levels of code reuse and flexibility in designing class hierarchies. The choice of inheritance type depends on the specific requirements of the application and the relationships between the classes being modeled."
   ]
  },
  {
   "cell_type": "code",
   "execution_count": 7,
   "id": "543daa45-9acb-4c81-a472-9bad80690506",
   "metadata": {},
   "outputs": [
    {
     "name": "stdout",
     "output_type": "stream",
     "text": [
      "Vehicle started\n",
      "Car is being driven\n",
      "Sports car is speeding up\n"
     ]
    }
   ],
   "source": [
    "\n",
    "class Vehicle:\n",
    "    def start(self):\n",
    "        print(\"Vehicle started\")\n",
    "\n",
    "class Car(Vehicle):\n",
    "    def drive(self):\n",
    "        print(\"Car is being driven\")\n",
    "\n",
    "class SportsCar(Car):\n",
    "    def speed_up(self):\n",
    "        print(\"Sports car is speeding up\")\n",
    "\n",
    "# Creating an object of the SportsCar class\n",
    "car_obj = SportsCar()\n",
    "\n",
    "# Calling methods from Vehicle, Car, and SportsCar classes\n",
    "car_obj.start()   \n",
    "car_obj.drive()   \n",
    "car_obj.speed_up()  \n"
   ]
  },
  {
   "cell_type": "code",
   "execution_count": null,
   "id": "b87a0db9-b57f-4c79-91ab-87331ffae231",
   "metadata": {},
   "outputs": [],
   "source": []
  }
 ],
 "metadata": {
  "kernelspec": {
   "display_name": "Python 3 (ipykernel)",
   "language": "python",
   "name": "python3"
  },
  "language_info": {
   "codemirror_mode": {
    "name": "ipython",
    "version": 3
   },
   "file_extension": ".py",
   "mimetype": "text/x-python",
   "name": "python",
   "nbconvert_exporter": "python",
   "pygments_lexer": "ipython3",
   "version": "3.10.8"
  }
 },
 "nbformat": 4,
 "nbformat_minor": 5
}
